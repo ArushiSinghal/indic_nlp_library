{
 "cells": [
  {
   "cell_type": "markdown",
   "metadata": {},
   "source": [
    "# Indic NLP Library"
   ]
  },
  {
   "cell_type": "markdown",
   "metadata": {},
   "source": [
    "The goal of the _Indic NLP Library_ is to build Python based libraries for common text processing and Natural Language Processing in Indian languages. Indian languages share a lot of similarity in terms of script, phonology, language syntax, etc. and this library is an attempt to provide a general solution to very commonly required toolsets for Indian language text. \n",
    "\n",
    "The library provides the following functionalities: \n",
    "\n",
    "- Text Normalization\n",
    "- Script Information\n",
    "- Tokenization\n",
    "- Word Segmenation\n",
    "- Script Conversion\n",
    "- Romanization\n",
    "- Indicization\n",
    "- Transliteration\n",
    "- Translation\n",
    "\n",
    "The data resources required by the Indic NLP Library are hosted in a different repository. These resources are required for some modules. You can download from the [Indic NLP Resources](https://github.com/anoopkunchukuttan/indic_nlp_resources) project.\n",
    "\n",
    "## Pre-requisites\n",
    "\n",
    "- Python 2.7+\n",
    "- [Morfessor 2.0 Python Library](http://www.cis.hut.fi/projects/morpho/morfessor2.shtml)\n"
   ]
  },
  {
   "cell_type": "markdown",
   "metadata": {},
   "source": [
    "## Getting Started"
   ]
  },
  {
   "cell_type": "markdown",
   "metadata": {},
   "source": [
    "**  ----- Set these variables ----- **"
   ]
  },
  {
   "cell_type": "code",
   "execution_count": 1,
   "metadata": {
    "collapsed": true
   },
   "outputs": [],
   "source": [
    "# The path to the local git repo for Indic NLP library\n",
    "INDIC_NLP_LIB_HOME=\"/home/development/anoop/installs/indic_nlp_library\"\n",
    "# The path to the local git repo for Indic NLP Resources\n",
    "INDIC_NLP_RESOURCES=\"/usr/local/bin/indicnlp/indic_nlp_resources\""
   ]
  },
  {
   "cell_type": "markdown",
   "metadata": {},
   "source": [
    "**Add Library to Python path**"
   ]
  },
  {
   "cell_type": "code",
   "execution_count": 2,
   "metadata": {
    "collapsed": true
   },
   "outputs": [],
   "source": [
    "import sys\n",
    "sys.path.append('{}/src'.format(INDIC_NLP_LIB_HOME))"
   ]
  },
  {
   "cell_type": "markdown",
   "metadata": {},
   "source": [
    "** Export environment variable ** \n",
    "\n",
    "    export INDIC_RESOURCES_PATH=<path>"
   ]
  },
  {
   "cell_type": "markdown",
   "metadata": {},
   "source": [
    "     OR\n",
    "     \n",
    "**set it programmatically**\n",
    "We will use that method for this demo"
   ]
  },
  {
   "cell_type": "code",
   "execution_count": 3,
   "metadata": {
    "collapsed": false
   },
   "outputs": [],
   "source": [
    "from indicnlp import common\n",
    "common.set_resources_path(INDIC_NLP_RESOURCES)"
   ]
  },
  {
   "cell_type": "markdown",
   "metadata": {},
   "source": [
    "** Initialize the Indic NLP library **"
   ]
  },
  {
   "cell_type": "code",
   "execution_count": 4,
   "metadata": {
    "collapsed": false
   },
   "outputs": [],
   "source": [
    "from indicnlp import loader\n",
    "loader.load()"
   ]
  },
  {
   "cell_type": "markdown",
   "metadata": {},
   "source": [
    "** Let's actually try out some of the APIs in the Indic NLP library **"
   ]
  },
  {
   "cell_type": "markdown",
   "metadata": {},
   "source": [
    "Many of the API functions require a language code. We use 2-letter ISO 639-1 codes. Some languages do not have assigned 2-letter codes. We use the following two-letter codes for such languages: \n",
    "\n",
    "- Konkani: kK\n",
    "- Manipuri: mP\n",
    "- Bodo: bD"
   ]
  },
  {
   "cell_type": "markdown",
   "metadata": {},
   "source": [
    "## Text Normalization\n",
    "\n",
    "Text written in Indic scripts display a lot of quirky behaviour on account of varying input methods, multiple representations for the same character, etc. \n",
    "There is a need to canonicalize the representation of text so that NLP applications can handle the data in a consistent manner. The canonicalization primarily handles the following issues: \n",
    "\n",
    "    - Non-spacing characters like ZWJ/ZWNL\n",
    "    - Multiple representations of Nukta based characters \n",
    "    - Multiple representations of two part dependent vowel signs\n",
    "    - Typing inconsistencies: e.g. use of pipe (|) for poorna virama\n"
   ]
  },
  {
   "cell_type": "code",
   "execution_count": 5,
   "metadata": {
    "collapsed": false
   },
   "outputs": [
    {
     "name": "stdout",
     "output_type": "stream",
     "text": [
      "क़ क़\n",
      "Length before normalization: 4\n",
      "Length after normalization: 5\n"
     ]
    }
   ],
   "source": [
    "from indicnlp.normalize.indic_normalize import IndicNormalizerFactory\n",
    "\n",
    "input_text=u\"\\u0958 \\u0915\\u093c\"\n",
    "remove_nuktas=False\n",
    "factory=IndicNormalizerFactory()\n",
    "normalizer=factory.get_normalizer(\"hi\",remove_nuktas)\n",
    "output_text=normalizer.normalize(input_text)\n",
    "\n",
    "print output_text\n",
    "print 'Length before normalization: {}'.format(len(input_text))\n",
    "print 'Length after normalization: {}'.format(len(output_text))"
   ]
  },
  {
   "cell_type": "markdown",
   "metadata": {},
   "source": [
    "## Script Conversion\n",
    "\n",
    "Convert from one Indic script to another. This is a simple script which exploits the fact that Unicode points of various Indic scripts are at corresponding offsets from the base codepoint for that script. The following scripts are supported:\n",
    "\n",
    "_Devanagari (Hindi,Marathi,Sanskrit,Konkani,Sindhi,Nepali), Assamese, Bengali, Oriya, Gujarati, Gurumukhi (Punjabi), Sindhi, Tamil, Telugu, Kannada, Malayalam_"
   ]
  },
  {
   "cell_type": "code",
   "execution_count": 6,
   "metadata": {
    "collapsed": false
   },
   "outputs": [
    {
     "name": "stdout",
     "output_type": "stream",
     "text": [
      "ਰਾਜਸ੍ਥਾਨ\n"
     ]
    }
   ],
   "source": [
    "from indicnlp.transliterate.unicode_transliterate import UnicodeIndicTransliterator\n",
    "input_text=u'राजस्थान'\n",
    "print UnicodeIndicTransliterator.transliterate(input_text,\"hi\",\"pa\")"
   ]
  },
  {
   "cell_type": "markdown",
   "metadata": {},
   "source": [
    "## Romanization\n",
    "\n",
    "Convert script text to Roman text in the ITRANS notation"
   ]
  },
  {
   "cell_type": "code",
   "execution_count": 7,
   "metadata": {
    "collapsed": false
   },
   "outputs": [
    {
     "name": "stdout",
     "output_type": "stream",
     "text": [
      "rAjasthAna\n"
     ]
    }
   ],
   "source": [
    "from indicnlp.transliterate.unicode_transliterate import ItransTransliterator\n",
    "\n",
    "input_text=u'राजस्थान'\n",
    "lang='hi'\n",
    "\n",
    "\n",
    "print ItransTransliterator.to_itrans(input_text,lang)"
   ]
  },
  {
   "cell_type": "markdown",
   "metadata": {},
   "source": [
    "## Indicization (ITRANS to Indic Script)\n",
    "\n",
    "Let's call conversion of ITRANS-transliteration to an Indic script as **Indicization**!\n"
   ]
  },
  {
   "cell_type": "code",
   "execution_count": 8,
   "metadata": {
    "collapsed": false,
    "scrolled": true
   },
   "outputs": [
    {
     "name": "stdout",
     "output_type": "stream",
     "text": [
      "पितॣन्\n",
      "92a\n",
      "93f\n",
      "924\n",
      "963\n",
      "928\n",
      "94d\n"
     ]
    }
   ],
   "source": [
    "from indicnlp.transliterate.unicode_transliterate import ItransTransliterator\n",
    "\n",
    "\n",
    "# input_text=u'rajasthAna'\n",
    "input_text=u'pitL^In'\n",
    "lang='hi'\n",
    "x=ItransTransliterator.from_itrans(input_text,lang)\n",
    "print x\n",
    "for y in x:\n",
    "    print '{:x}'.format(ord(y))"
   ]
  },
  {
   "cell_type": "markdown",
   "metadata": {},
   "source": [
    "## Query Script Information\n",
    "\n",
    "Indic scripts have been designed keeping phonetic principles in nature and the design and organization of the scripts makes it easy to obtain phonetic information about the characters. "
   ]
  },
  {
   "cell_type": "markdown",
   "metadata": {},
   "source": [
    "### Get Phonetic Feature Vector\n",
    "\n",
    "With each script character, a phontic feature vector is associated, which encodes the phontic properties of the character. This is a bit vector which is can be obtained as shown below:  "
   ]
  },
  {
   "cell_type": "code",
   "execution_count": 14,
   "metadata": {
    "collapsed": false
   },
   "outputs": [
    {
     "data": {
      "text/plain": [
       "array([0, 1, 0, 0, 0, 0, 0, 0, 0, 0, 0, 0, 0, 1, 0, 0, 0, 0, 1, 0, 0, 0, 0,\n",
       "       0, 1, 0, 1, 0, 1, 0, 0, 0, 0, 0, 0, 0, 0, 0])"
      ]
     },
     "execution_count": 14,
     "metadata": {},
     "output_type": "execute_result"
    }
   ],
   "source": [
    "from indicnlp.script import  indic_scripts as isc\n",
    "\n",
    "c=u'क'\n",
    "lang='hi'\n",
    "\n",
    "\n",
    "\n",
    "isc.get_phonetic_feature_vector(c,lang)"
   ]
  },
  {
   "cell_type": "markdown",
   "metadata": {},
   "source": [
    "This fields in this bit vector are (from left to right): "
   ]
  },
  {
   "cell_type": "code",
   "execution_count": 24,
   "metadata": {
    "collapsed": false
   },
   "outputs": [
    {
     "data": {
      "text/plain": [
       "[('basic_type', [0, 6]),\n",
       " ('vowel_length', [6, 8]),\n",
       " ('vowel_strength', [8, 11]),\n",
       " ('vowel_status', [11, 13]),\n",
       " ('consonant_type', [13, 18]),\n",
       " ('articulation_place', [18, 23]),\n",
       " ('aspiration', [23, 25]),\n",
       " ('voicing', [25, 27]),\n",
       " ('nasalization', [27, 29]),\n",
       " ('vowel_horizontal', [29, 32]),\n",
       " ('vowel_vertical', [32, 36]),\n",
       " ('vowel_roundness', [36, 38])]"
      ]
     },
     "execution_count": 24,
     "metadata": {},
     "output_type": "execute_result"
    }
   ],
   "source": [
    "sorted(isc.PV_PROP_RANGES.iteritems(),key=lambda x:x[1][0])"
   ]
  },
  {
   "cell_type": "markdown",
   "metadata": {},
   "source": [
    "You can check the phonetic information database fileS in Indic NLP resources to know the definition of each of the bits. \n",
    "\n",
    "- _For Tamil Script_: [database](https://github.com/anoopkunchukuttan/indic_nlp_resources/blob/master/script/tamil_script_phonetic_data.csv) \n",
    "- _For other Indic Scripts_: [database](https://github.com/anoopkunchukuttan/indic_nlp_resources/blob/master/script/all_script_phonetic_data.csv)"
   ]
  },
  {
   "cell_type": "markdown",
   "metadata": {},
   "source": [
    "### Query Phonetic Properties\n",
    "\n",
    "**Note:** _This interface below will be deprecated soon and a new interface will be available soon._"
   ]
  },
  {
   "cell_type": "code",
   "execution_count": 12,
   "metadata": {
    "collapsed": false
   },
   "outputs": [
    {
     "name": "stdout",
     "output_type": "stream",
     "text": [
      "Is vowel?:  False\n",
      "Is consonant?:  True\n",
      "Is velar?:  True\n",
      "Is palatal?:  False\n",
      "Is aspirated?:  False\n",
      "Is unvoiced?:  True\n",
      "Is nasal?:  False\n"
     ]
    }
   ],
   "source": [
    "from indicnlp.langinfo import *\n",
    "\n",
    "c=u'क'\n",
    "lang='hi'\n",
    "\n",
    "print 'Is vowel?:  {}'.format(is_vowel(c,lang))\n",
    "print 'Is consonant?:  {}'.format(is_consonant(c,lang))\n",
    "print 'Is velar?:  {}'.format(is_velar(c,lang))\n",
    "print 'Is palatal?:  {}'.format(is_palatal(c,lang))\n",
    "print 'Is aspirated?:  {}'.format(is_aspirated(c,lang))\n",
    "print 'Is unvoiced?:  {}'.format(is_unvoiced(c,lang))\n",
    "print 'Is nasal?:  {}'.format(is_nasal(c,lang))"
   ]
  },
  {
   "cell_type": "markdown",
   "metadata": {},
   "source": [
    "## Word Segmentation\n",
    "\n",
    "Unsupervised morphological analysers for various Indian language. Given a word, the analyzer returns the componenent morphemes. \n",
    "The analyzer can recognize inflectional and derivational morphemes. \n",
    "\n",
    "The following languages are supported:\n",
    "\n",
    "_Hindi, Punjabi, Marathi, Konkani, Gujarati, Bengali, Kannada, Tamil, Telugu, Malayalam_\n",
    "\n",
    "Support for more languages will be added soon."
   ]
  },
  {
   "cell_type": "code",
   "execution_count": 9,
   "metadata": {
    "collapsed": true
   },
   "outputs": [],
   "source": [
    "from indicnlp.morph import unsupervised_morph \n",
    "from indicnlp import common\n",
    "\n",
    "analyzer=unsupervised_morph.UnsupervisedMorphAnalyzer('mr')"
   ]
  },
  {
   "cell_type": "code",
   "execution_count": 10,
   "metadata": {
    "collapsed": false
   },
   "outputs": [
    {
     "name": "stdout",
     "output_type": "stream",
     "text": [
      "आपल्या\n",
      "हिरड्या\n",
      "ंच्या\n",
      "आणि\n",
      "दाता\n",
      "ंच्या\n",
      "मध्ये\n",
      "जीवाणू\n",
      "असतात\n",
      ".\n"
     ]
    }
   ],
   "source": [
    "indic_string=u'आपल्या हिरड्यांच्या आणि दातांच्यामध्ये जीवाणू असतात .'\n",
    "\n",
    "analyzes_tokens=analyzer.morph_analyze_document(indic_string.split(' '))\n",
    "\n",
    "for w in analyzes_tokens: \n",
    "    print w"
   ]
  },
  {
   "cell_type": "markdown",
   "metadata": {},
   "source": [
    "## Transliteration"
   ]
  },
  {
   "cell_type": "markdown",
   "metadata": {},
   "source": [
    "We use the [_BrahmiNet_](http://www.cfilt.iitb.ac.in/brahminet/static/rest.html) REST API for transliteration."
   ]
  },
  {
   "cell_type": "code",
   "execution_count": null,
   "metadata": {
    "collapsed": false
   },
   "outputs": [],
   "source": [
    "import urllib2\n",
    "from django.utils.encoding import * \n",
    "from django.utils.http import * \n",
    "\n",
    "text=iri_to_uri(urlquote('anoop, ratish kal fone par baat karenge'))\n",
    "url=u'http://www.cfilt.iitb.ac.in/indicnlpweb/indicnlpws/transliterate_bulk/en/hi/{}/statistical'.format(text)\n",
    "\n",
    "response=urllib2.urlopen(url).read()\n",
    "print response"
   ]
  },
  {
   "cell_type": "markdown",
   "metadata": {},
   "source": [
    "You can also use _BrahmiNet_ through [this](http://www.cfilt.iitb.ac.in/brahminet) web interface.  \n",
    "\n",
    "You can read more about _BrahmiNet_ [here](http://www.cfilt.iitb.ac.in/brahminet/static/publications/brahminet_naacl2015.pdf)"
   ]
  },
  {
   "cell_type": "markdown",
   "metadata": {},
   "source": [
    "## Tokenization \n",
    "\n",
    "A trivial tokenizer which just tokenizes on the punctuation boundaries. This also includes punctuations for the Indian language scripts (the purna virama and the deergha virama). It returns a list of tokens.   \n"
   ]
  },
  {
   "cell_type": "code",
   "execution_count": null,
   "metadata": {
    "collapsed": false
   },
   "outputs": [],
   "source": [
    "from indicnlp.tokenize import indic_tokenize  \n",
    "\n",
    "indic_string=u'अनूप,अनूप?।फोन'\n",
    "\n",
    "print u'Input String: {}'.format(indic_string)\n",
    "print u'Tokens: '\n",
    "for t in indic_tokenize.trivial_tokenize(indic_string): \n",
    "    print t"
   ]
  }
 ],
 "metadata": {
  "kernelspec": {
   "display_name": "Python 2",
   "language": "python",
   "name": "python2"
  },
  "language_info": {
   "codemirror_mode": {
    "name": "ipython",
    "version": 2
   },
   "file_extension": ".py",
   "mimetype": "text/x-python",
   "name": "python",
   "nbconvert_exporter": "python",
   "pygments_lexer": "ipython2",
   "version": "2.7.6"
  }
 },
 "nbformat": 4,
 "nbformat_minor": 0
}
